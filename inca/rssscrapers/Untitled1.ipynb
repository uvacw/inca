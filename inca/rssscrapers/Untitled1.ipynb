{
 "cells": [
  {
   "cell_type": "code",
   "execution_count": 2,
   "metadata": {},
   "outputs": [],
   "source": [
    "from selenium import webdriver #launch browser\n",
    "from selenium.webdriver.common.keys import Keys\n",
    "from selenium.webdriver.support.ui import WebDriverWait #wait for page to load\n",
    "from selenium.webdriver.support import expected_conditions as EC #Specify what you are looking for on a specific page in order to determine that the webpage has loaded\n",
    "from selenium.webdriver.common.by import By #find elements BY\n",
    "import time\n",
    "from selenium.common.exceptions import TimeoutException #handle timout situations; \n",
    "from selenium.common.exceptions import NoSuchElementException\n",
    "\n",
    "from bs4 import BeautifulSoup\n",
    "from urllib.request import urlopen\n",
    "import urllib.request\n",
    "import re\n",
    "import requests\n",
    "\n",
    "from socket import error as SocketError\n",
    "import errno\n",
    "from lxml import html\n",
    "from lxml.html import fromstring\n",
    "from bs4 import BeautifulSoup\n",
    "from html.parser import HTMLParser\n",
    "\n",
    "import csv"
   ]
  },
  {
   "cell_type": "code",
   "execution_count": null,
   "metadata": {},
   "outputs": [],
   "source": [
    "import requests\n",
    "from lxml.html import fromstring\n"
   ]
  },
  {
   "cell_type": "code",
   "execution_count": 22,
   "metadata": {},
   "outputs": [],
   "source": [
    "html_kurier=requests.get('https://kurier.at/einfache-sprache/klima-aktivistin-greta-thunberg-bekommt-menschenrechts-preis/400608884')\n"
   ]
  },
  {
   "cell_type": "code",
   "execution_count": 23,
   "metadata": {},
   "outputs": [],
   "source": [
    "tree=fromstring(html_kurier.text)"
   ]
  },
  {
   "cell_type": "code",
   "execution_count": 51,
   "metadata": {
    "scrolled": true
   },
   "outputs": [
    {
     "name": "stdout",
     "output_type": "stream",
     "text": [
      "Klima-Aktivistin Greta Thunberg bekommt Menschenrechts-Preis\n"
     ]
    }
   ],
   "source": [
    "tito = tree.xpath('//*[@class=\"article-header-title\"]/span')[0].text\n",
    "print(tito)"
   ]
  },
  {
   "cell_type": "code",
   "execution_count": 46,
   "metadata": {},
   "outputs": [
    {
     "name": "stdout",
     "output_type": "stream",
     "text": [
      "[' Einfache Sprache\\n']\n"
     ]
    }
   ],
   "source": [
    "category = tree.xpath('//*[@class=\"tag ng-star-inserted\"]/text()')\n",
    "print(category)"
   ]
  },
  {
   "cell_type": "code",
   "execution_count": 52,
   "metadata": {
    "scrolled": true
   },
   "outputs": [
    {
     "name": "stdout",
     "output_type": "stream",
     "text": [
      "Greta Thunberg, aus Schweden, hat einen Menschenrechts-Preis bekommen.\r\n",
      "Sie wurde für ihren Einsatz für den Klimaschutz ausgezeichnet.\r\n",
      "\n"
     ]
    }
   ],
   "source": [
    "teaser = tree.xpath('//*[@class=\"article-header-leadText-main\"]')[0].text\n",
    "print(teaser)\n",
    "\n"
   ]
  },
  {
   "cell_type": "code",
   "execution_count": 49,
   "metadata": {},
   "outputs": [
    {
     "name": "stdout",
     "output_type": "stream",
     "text": [
      "[' Inklusive Lehrredaktion']\n"
     ]
    }
   ],
   "source": [
    "author = tree.xpath('//a[@class=\"ng-star-inserted\"]/text()')\n",
    "print(author)"
   ]
  },
  {
   "cell_type": "code",
   "execution_count": 66,
   "metadata": {},
   "outputs": [
    {
     "name": "stdout",
     "output_type": "stream",
     "text": [
      "Die schwedische Klima-Aktivistin bekam den Amnesty Menschenrechts-Preis.Dieser Preis wird von „ verliehen. ist eine Organisation,die sich überall auf der Welt für Menschenrechte einsetzt. bekam den Preis, weil sie sichfür den Klimaschutz mit Protesten einsetzt.Bei einem Protest zeigt man öffentlich,das man etwas nicht gut findet. hat jeden Freitagdie Schule geschwänzt und hat stattdessenfür mehr Klimaschutz protestiert.Viele andere Schüler auf der ganzen Welthaben es  nachgemacht.So entstand eine weltweite Schüler-Bewegung.Sie heißt „Fridays for Future“.Das ist Englisch und bedeutet:Freitage für die Zukunft. sagte, der Preis ist für alle Schüler,die sich für den Klimaschutz einsetzen.\n"
     ]
    }
   ],
   "source": [
    "text = \"\".join(tree.xpath('//paragraph[@class=\"ng-star-inserted\"]/div/p/span[*]/text()')).strip().replace(\"\\n\",\"\")\n",
    "print(text)"
   ]
  },
  {
   "cell_type": "code",
   "execution_count": null,
   "metadata": {},
   "outputs": [],
   "source": [
    "titles=[] #list of titles; (strings in list)"
   ]
  },
  {
   "cell_type": "code",
   "execution_count": 4,
   "metadata": {},
   "outputs": [
    {
     "ename": "SyntaxError",
     "evalue": "invalid syntax (<ipython-input-4-a768cd71b885>, line 5)",
     "output_type": "error",
     "traceback": [
      "\u001b[0;36m  File \u001b[0;32m\"<ipython-input-4-a768cd71b885>\"\u001b[0;36m, line \u001b[0;32m5\u001b[0m\n\u001b[0;31m    title=tree.xpath('//*[@class='article-header-title']/span')\u001b[0m\n\u001b[0m                                        ^\u001b[0m\n\u001b[0;31mSyntaxError\u001b[0m\u001b[0;31m:\u001b[0m invalid syntax\n"
     ]
    }
   ],
   "source": [
    "#load browser and page;\n",
    "driver=webdriver.Firefox()\n",
    "driver.get(\"https://kurier.at/einfache-sprache/klima-aktivistin-greta-thunberg-bekommt-menschenrechts-preis/400608884\")\n",
    "\n",
    "\n",
    "\n"
   ]
  },
  {
   "cell_type": "code",
   "execution_count": 20,
   "metadata": {},
   "outputs": [
    {
     "name": "stdout",
     "output_type": "stream",
     "text": [
      "Klima-Aktivistin Greta Thunberg bekommt Menschenrechts-Preis\n"
     ]
    }
   ],
   "source": [
    "title=driver.find_element_by_xpath('//h1[@class=\"article-header-title\"]/span').text\n",
    "print(title)\n"
   ]
  },
  {
   "cell_type": "code",
   "execution_count": 21,
   "metadata": {},
   "outputs": [
    {
     "name": "stdout",
     "output_type": "stream",
     "text": [
      "Klima-Aktivistin Greta Thunberg bekommt Menschenrechts-Preis\n"
     ]
    }
   ],
   "source": [
    "titles=driver.find_element_by_xpath('//*[@class=\"article-header-title\"]/span').text\n",
    "print(titles)\n"
   ]
  },
  {
   "cell_type": "code",
   "execution_count": null,
   "metadata": {},
   "outputs": [],
   "source": []
  },
  {
   "cell_type": "code",
   "execution_count": null,
   "metadata": {},
   "outputs": [],
   "source": []
  }
 ],
 "metadata": {
  "kernelspec": {
   "display_name": "Python 3",
   "language": "python",
   "name": "python3"
  },
  "language_info": {
   "codemirror_mode": {
    "name": "ipython",
    "version": 3
   },
   "file_extension": ".py",
   "mimetype": "text/x-python",
   "name": "python",
   "nbconvert_exporter": "python",
   "pygments_lexer": "ipython3",
   "version": "3.6.7"
  }
 },
 "nbformat": 4,
 "nbformat_minor": 2
}
